{
 "cells": [
  {
   "cell_type": "code",
   "execution_count": 1,
   "id": "initial_id",
   "metadata": {
    "collapsed": true,
    "ExecuteTime": {
     "end_time": "2023-12-13T14:07:31.097429400Z",
     "start_time": "2023-12-13T14:07:30.293478900Z"
    }
   },
   "outputs": [
    {
     "ename": "TypeError",
     "evalue": "'>' not supported between instances of 'NoneType' and 'int'",
     "output_type": "error",
     "traceback": [
      "\u001B[1;31m---------------------------------------------------------------------------\u001B[0m",
      "\u001B[1;31mTypeError\u001B[0m                                 Traceback (most recent call last)",
      "Cell \u001B[1;32mIn[1], line 47\u001B[0m\n\u001B[0;32m     45\u001B[0m     trace \u001B[38;5;241m=\u001B[39m get_trace(\u001B[38;5;124mf\u001B[39m\u001B[38;5;124m'\u001B[39m\u001B[38;5;132;01m{\u001B[39;00mtrace_path\u001B[38;5;132;01m}\u001B[39;00m\u001B[38;5;132;01m{\u001B[39;00mopt\u001B[38;5;132;01m}\u001B[39;00m\u001B[38;5;124m'\u001B[39m)\n\u001B[0;32m     46\u001B[0m     \u001B[38;5;28;01mif\u001B[39;00m \u001B[38;5;129;01mnot\u001B[39;00m trace:\n\u001B[1;32m---> 47\u001B[0m         trained_model, trace \u001B[38;5;241m=\u001B[39m \u001B[43mtrain_model\u001B[49m\u001B[43m(\u001B[49m\u001B[43mmodel\u001B[49m\u001B[43m,\u001B[49m\u001B[43m \u001B[49m\u001B[43mopt\u001B[49m\u001B[43m,\u001B[49m\u001B[43m \u001B[49m\u001B[43mx0\u001B[49m\u001B[43m,\u001B[49m\u001B[43m \u001B[49m\u001B[43mn_epoch\u001B[49m\u001B[43m,\u001B[49m\u001B[43m \u001B[49m\u001B[38;5;241;43m1\u001B[39;49m\u001B[38;5;241;43m/\u001B[39;49m\u001B[43ml2\u001B[49m\u001B[43m,\u001B[49m\u001B[43m \u001B[49m\u001B[43mtrace_path\u001B[49m\u001B[38;5;241;43m=\u001B[39;49m\u001B[38;5;124;43mf\u001B[39;49m\u001B[38;5;124;43m'\u001B[39;49m\u001B[38;5;132;43;01m{\u001B[39;49;00m\u001B[43mtrace_path\u001B[49m\u001B[38;5;132;43;01m}\u001B[39;49;00m\u001B[38;5;132;43;01m{\u001B[39;49;00m\u001B[43mopt\u001B[49m\u001B[38;5;132;43;01m}\u001B[39;49;00m\u001B[38;5;124;43m'\u001B[39;49m\u001B[43m)\u001B[49m\n\u001B[0;32m     48\u001B[0m     traces\u001B[38;5;241m.\u001B[39mappend(trace)\n\u001B[0;32m     50\u001B[0m \u001B[38;5;66;03m# Plotting the results\u001B[39;00m\n",
      "File \u001B[1;32m~\\DataspellProjects\\OptimizationProject\\rr_sa_with_vi\\train.py:30\u001B[0m, in \u001B[0;36mtrain_model\u001B[1;34m(model, optimizer_type, x0, it_max, lr, mu, trace_path)\u001B[0m\n\u001B[0;32m     27\u001B[0m     optimizer \u001B[38;5;241m=\u001B[39m Shuffling(loss\u001B[38;5;241m=\u001B[39mmodel, lr\u001B[38;5;241m=\u001B[39mlr, it_max\u001B[38;5;241m=\u001B[39mit_max)\n\u001B[0;32m     29\u001B[0m \u001B[38;5;28;01mif\u001B[39;00m optimizer \u001B[38;5;129;01mis\u001B[39;00m \u001B[38;5;129;01mnot\u001B[39;00m \u001B[38;5;28;01mNone\u001B[39;00m:\n\u001B[1;32m---> 30\u001B[0m     trace \u001B[38;5;241m=\u001B[39m \u001B[43moptimizer\u001B[49m\u001B[38;5;241;43m.\u001B[39;49m\u001B[43mrun\u001B[49m\u001B[43m(\u001B[49m\u001B[43mx0\u001B[49m\u001B[43m)\u001B[49m\n\u001B[0;32m     31\u001B[0m     \u001B[38;5;28;01mif\u001B[39;00m trace_path:\n\u001B[0;32m     32\u001B[0m         save_trace(trace, trace_path)\n",
      "File \u001B[1;32m~\\DataspellProjects\\OptimizationProject\\rr_sa_with_vi\\optimizers.py:77\u001B[0m, in \u001B[0;36mNesterov.run\u001B[1;34m(self, x0)\u001B[0m\n\u001B[0;32m     75\u001B[0m \u001B[38;5;28mself\u001B[39m\u001B[38;5;241m.\u001B[39mx \u001B[38;5;241m=\u001B[39m x0\u001B[38;5;241m.\u001B[39mcopy()\n\u001B[0;32m     76\u001B[0m \u001B[38;5;28mself\u001B[39m\u001B[38;5;241m.\u001B[39my \u001B[38;5;241m=\u001B[39m \u001B[38;5;28mself\u001B[39m\u001B[38;5;241m.\u001B[39mx\u001B[38;5;241m.\u001B[39mcopy()\n\u001B[1;32m---> 77\u001B[0m \u001B[38;5;28;01mif\u001B[39;00m \u001B[38;5;28;43mself\u001B[39;49m\u001B[38;5;241;43m.\u001B[39;49m\u001B[43mmu\u001B[49m\u001B[43m \u001B[49m\u001B[38;5;241;43m>\u001B[39;49m\u001B[43m \u001B[49m\u001B[38;5;241;43m0\u001B[39;49m:\n\u001B[0;32m     78\u001B[0m     \u001B[38;5;28mself\u001B[39m\u001B[38;5;241m.\u001B[39mmomentum \u001B[38;5;241m=\u001B[39m (\u001B[38;5;241m1\u001B[39m \u001B[38;5;241m-\u001B[39m np\u001B[38;5;241m.\u001B[39msqrt(\u001B[38;5;28mself\u001B[39m\u001B[38;5;241m.\u001B[39mlr \u001B[38;5;241m*\u001B[39m \u001B[38;5;28mself\u001B[39m\u001B[38;5;241m.\u001B[39mmu)) \u001B[38;5;241m/\u001B[39m (\u001B[38;5;241m1\u001B[39m \u001B[38;5;241m+\u001B[39m np\u001B[38;5;241m.\u001B[39msqrt(\u001B[38;5;28mself\u001B[39m\u001B[38;5;241m.\u001B[39mlr \u001B[38;5;241m*\u001B[39m \u001B[38;5;28mself\u001B[39m\u001B[38;5;241m.\u001B[39mmu))\n\u001B[0;32m     79\u001B[0m \u001B[38;5;28;01mwhile\u001B[39;00m \u001B[38;5;28mself\u001B[39m\u001B[38;5;241m.\u001B[39mit \u001B[38;5;241m<\u001B[39m \u001B[38;5;28mself\u001B[39m\u001B[38;5;241m.\u001B[39mit_max:\n",
      "\u001B[1;31mTypeError\u001B[0m: '>' not supported between instances of 'NoneType' and 'int'"
     ]
    }
   ],
   "source": [
    "# Import necessary libraries\n",
    "import matplotlib.pyplot as plt\n",
    "import matplotlib\n",
    "import seaborn as sns\n",
    "import numpy as np\n",
    "from scipy.sparse import csc_matrix\n",
    "from model import create_logistic_regression_model\n",
    "from train import train_model\n",
    "from get_dataset import get_dataset\n",
    "from utils import get_trace, relative_round\n",
    "\n",
    "# Set up visualization styles\n",
    "sns.set(style=\"whitegrid\", font_scale=1.2, context=\"talk\", palette=sns.color_palette(\"bright\"), color_codes=False)\n",
    "matplotlib.rcParams['pdf.fonttype'] = 42\n",
    "matplotlib.rcParams['ps.fonttype'] = 42\n",
    "matplotlib.rcParams['figure.figsize'] = (8, 6)\n",
    "\n",
    "# Load dataset\n",
    "dataset = 'w8a.txt'\n",
    "A, b = get_dataset(dataset)\n",
    "\n",
    "# Create logistic regression model\n",
    "model = create_logistic_regression_model(A, b)\n",
    "\n",
    "# Set training parameters\n",
    "n, dim = A.shape\n",
    "L = model.smoothness()\n",
    "l2 = L / np.sqrt(n)\n",
    "model.l2 = l2\n",
    "x0 = csc_matrix((dim, 1))\n",
    "n_epoch = 600\n",
    "batch_size = 512\n",
    "n_seeds = 2  # was set to 20 in the paper\n",
    "stoch_it = 250 * n // batch_size\n",
    "trace_len = 300\n",
    "trace_path = f'../results/log_reg_{dataset}_l2_{relative_round(l2)}/'\n",
    "\n",
    "# Train with different optimizers\n",
    "optimizers = ['Nesterov', 'Sgd', 'Ig', 'Shuffling']\n",
    "traces = []\n",
    "labels = ['Nesterov', 'SGD', 'IG', 'Shuffling']\n",
    "markers = [',', 'o', 'D', '*']\n",
    "\n",
    "for opt in optimizers:\n",
    "    trace = get_trace(f'{trace_path}{opt}')\n",
    "    if not trace:\n",
    "        trained_model, trace = train_model(model, opt, x0, n_epoch, 1/l2, trace_path=f'{trace_path}{opt}')\n",
    "    traces.append(trace)\n",
    "\n",
    "# Plotting the results\n",
    "f_opt = np.min([np.min(trace.loss_vals) for trace in traces])\n",
    "x_opt = trace.xs[-1]\n",
    "\n",
    "for trace, label, marker in zip(traces, labels, markers):\n",
    "    trace.plot_losses(f_opt=f_opt, label=label, marker=marker)\n",
    "plt.yscale('log')\n",
    "plt.legend()\n",
    "plt.xlabel('Data passes')\n",
    "plt.tight_layout()\n",
    "plt.savefig(f'./plots/{dataset}_func.pdf', dpi=300)\n",
    "\n",
    "for trace, label, marker in zip(traces, labels, markers):\n",
    "    trace.plot_distances(x_opt=x_opt, label=label, marker=marker)\n",
    "plt.yscale('log')\n",
    "plt.legend()\n",
    "plt.xlabel('Data passes')\n",
    "plt.tight_layout()\n",
    "plt.savefig(f'./plots/{dataset}_dist.pdf', dpi=300)\n",
    "\n",
    "# Additional experiments can be added here, following a similar structure\n"
   ]
  },
  {
   "cell_type": "code",
   "execution_count": null,
   "outputs": [],
   "source": [],
   "metadata": {
    "collapsed": false,
    "ExecuteTime": {
     "start_time": "2023-12-13T14:07:31.099429800Z"
    }
   },
   "id": "41bf7048eb5c861c"
  }
 ],
 "metadata": {
  "kernelspec": {
   "display_name": "Python 3",
   "language": "python",
   "name": "python3"
  },
  "language_info": {
   "codemirror_mode": {
    "name": "ipython",
    "version": 2
   },
   "file_extension": ".py",
   "mimetype": "text/x-python",
   "name": "python",
   "nbconvert_exporter": "python",
   "pygments_lexer": "ipython2",
   "version": "2.7.6"
  }
 },
 "nbformat": 4,
 "nbformat_minor": 5
}
